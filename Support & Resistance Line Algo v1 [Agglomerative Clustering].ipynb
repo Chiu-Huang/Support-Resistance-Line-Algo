{
 "cells": [
  {
   "cell_type": "code",
   "execution_count": 1,
   "metadata": {},
   "outputs": [],
   "source": [
    "import numpy as np\n",
    "import pandas as pd\n",
    "import matplotlib.pyplot as plt\n",
    "import yfinance as yf\n",
    "from sklearn.cluster import AgglomerativeClustering\n",
    "import mplfinance as mpf\n",
    "from datetime import date,timedelta\n",
    "\n",
    "# Calculate VERY simple waves\n",
    "df = yf.Ticker(\"SQ\").history(period=\"max\") # Download Data \n",
    "df.index = pd.to_datetime(df.index)\n",
    "df.drop(['Dividends','Stock Splits'], axis=1, inplace=True)\n"
   ]
  },
  {
   "cell_type": "code",
   "execution_count": 2,
   "metadata": {},
   "outputs": [
    {
     "name": "stdout",
     "output_type": "stream",
     "text": [
      "1211 rows x 5 columns\n",
      " From Date 2015-11-19 to Date 2020-09-11 \n"
     ]
    },
    {
     "data": {
      "text/html": [
       "<div>\n",
       "<style scoped>\n",
       "    .dataframe tbody tr th:only-of-type {\n",
       "        vertical-align: middle;\n",
       "    }\n",
       "\n",
       "    .dataframe tbody tr th {\n",
       "        vertical-align: top;\n",
       "    }\n",
       "\n",
       "    .dataframe thead th {\n",
       "        text-align: right;\n",
       "    }\n",
       "</style>\n",
       "<table border=\"1\" class=\"dataframe\">\n",
       "  <thead>\n",
       "    <tr style=\"text-align: right;\">\n",
       "      <th></th>\n",
       "      <th>Open</th>\n",
       "      <th>High</th>\n",
       "      <th>Low</th>\n",
       "      <th>Close</th>\n",
       "      <th>Volume</th>\n",
       "    </tr>\n",
       "    <tr>\n",
       "      <th>Date</th>\n",
       "      <th></th>\n",
       "      <th></th>\n",
       "      <th></th>\n",
       "      <th></th>\n",
       "      <th></th>\n",
       "    </tr>\n",
       "  </thead>\n",
       "  <tbody>\n",
       "    <tr>\n",
       "      <th>2015-11-19</th>\n",
       "      <td>11.20</td>\n",
       "      <td>14.78</td>\n",
       "      <td>9.00</td>\n",
       "      <td>13.07</td>\n",
       "      <td>47466100</td>\n",
       "    </tr>\n",
       "    <tr>\n",
       "      <th>2020-09-11</th>\n",
       "      <td>143.91</td>\n",
       "      <td>143.91</td>\n",
       "      <td>134.26</td>\n",
       "      <td>137.45</td>\n",
       "      <td>8415600</td>\n",
       "    </tr>\n",
       "  </tbody>\n",
       "</table>\n",
       "</div>"
      ],
      "text/plain": [
       "              Open    High     Low   Close    Volume\n",
       "Date                                                \n",
       "2015-11-19   11.20   14.78    9.00   13.07  47466100\n",
       "2020-09-11  143.91  143.91  134.26  137.45   8415600"
      ]
     },
     "execution_count": 2,
     "metadata": {},
     "output_type": "execute_result"
    }
   ],
   "source": [
    "def ends(df, n=2): \n",
    "    \"\"\" Credited to icfly2 : https://github.com/pandas-dev/pandas/issues/18691\n",
    "    Returns both head and tail of the dataframe or series. \n",
    "    Args:\n",
    "        n (int): Optional number of rows to return for each head and tail\n",
    "    \"\"\"\n",
    "    print('{} rows x {} columns'.format(np.shape(df)[0],np.shape(df)[1]))\n",
    "    print(' From Date {} to Date {} '.format(df.index[0].strftime('%Y-%m-%d'),df.index[-1].strftime('%Y-%m-%d')))\n",
    "    return df.head(n).append(df.tail(n))\n",
    "\n",
    "ends(df,n=1)"
   ]
  },
  {
   "cell_type": "code",
   "execution_count": 3,
   "metadata": {},
   "outputs": [],
   "source": [
    "# Credit to \n",
    "def generate_SR_line(df,rolling=20,start=False, end=False, duration=False, n=4, figsize = (20, 10), plot=True):\n",
    "    ''' \n",
    "    Credited to Mott The Tuple @ https://stackoverflow.com/questions/8587047/support-resistance-algorithm-technical-analysis/55311893#55311893\n",
    "    --------------------------------------------------------------------------------------------------------------------------\n",
    "    df = DataFrame \n",
    "    n = Number of Clusters / Number of Support/Resistance Line\n",
    "    Start = Start index  e.g. 0 \n",
    "    End = End index e.g. 100\n",
    "    Duration = # of days used in S&R line from today\n",
    "    --------------------------------------------------------------------------------------------------------------------------\n",
    "    '''\n",
    "    \n",
    "    # Choose Date Range\n",
    "    if duration == False:\n",
    "        df = df.iloc[start:end]\n",
    "    else:\n",
    "        df = df.iloc[-(duration+rolling):] # for the rolling obs waves \n",
    "    date = df.index\n",
    "    \n",
    "    # Reset_Index for merging \n",
    "    df.reset_index(inplace=True) \n",
    "\n",
    "    # Build rolling stats\n",
    "    mx = df.High.rolling(rolling).max().rename('waves')\n",
    "    mn = df.Low.rolling(rolling).min().rename('waves')\n",
    "\n",
    "    mx_waves = pd.concat([mx,pd.Series(np.zeros(len(mx))+1)],axis = 1)\n",
    "    mn_waves = pd.concat([mn,pd.Series(np.zeros(len(mn))+-1)],axis = 1)    \n",
    "\n",
    "    mx_waves.drop_duplicates('waves',inplace = True)\n",
    "    mn_waves.drop_duplicates('waves',inplace = True)\n",
    "\n",
    "    W = mx_waves.append(mn_waves).sort_index()\n",
    "    W = W[ W[0] != W[0].shift() ].dropna()\n",
    "\n",
    "    # Find Support/Resistance with clustering using the rolling stats.\n",
    "        # Create [x,y] array where y is always 1\n",
    "    X = np.concatenate((W.waves.values.reshape(-1,1),\n",
    "                        (np.zeros(len(W))+1).reshape(-1,1)), axis = 1 )\n",
    "    # Clustering Algo\n",
    "    cluster = AgglomerativeClustering(n_clusters=n,\n",
    "              affinity='euclidean', linkage='ward')\n",
    "    cluster.fit_predict(X)\n",
    "    W['clusters'] = cluster.labels_\n",
    "\n",
    "    # Get index of the max wave for each cluster\n",
    "    W2 = W.loc[W.groupby('clusters')['waves'].idxmax()]\n",
    "    df.index = date \n",
    "    # Plotting \n",
    "    if plot == True:\n",
    "        mpf.plot(df, type='candle', style='yahoo', volume=True,\n",
    "                 hlines=dict(hlines=W2.waves.to_list(), colors='g', linestyle='dashed', alpha=0.7),figsize=figsize)\n",
    "        \n",
    "    W2.waves.drop_duplicates(keep='first', inplace=True)\n",
    "    \n",
    "    return W2.reset_index().waves\n"
   ]
  },
  {
   "cell_type": "code",
   "execution_count": 4,
   "metadata": {},
   "outputs": [
    {
     "data": {
      "image/png": "[encoded data removed]",
      "text/plain": [
       "<Figure size 2000x1000 with 4 Axes>"
      ]
     },
     "metadata": {},
     "output_type": "display_data"
    }
   ],
   "source": [
    "W2 = generate_SR_line(df, duration=100)"
   ]
  },
  {
   "cell_type": "code",
   "execution_count": 10,
   "metadata": {},
   "outputs": [
    {
     "name": "stdout",
     "output_type": "stream",
     "text": [
      "Ending Date: 2016-04-15 00:00:00\n",
      "Ending Date: 2020-09-11 00:00:00\n"
     ]
    }
   ],
   "source": [
    "col_names = ['SR1','SR2','SR3','SR4']\n",
    "start = 0 \n",
    "period = 100 # roughly 1 quarter + 20 days for rolling data \n",
    "\n",
    "SRs = pd.DataFrame()\n",
    "for i in range(0, len(df) - period):\n",
    "    W = generate_SR_line(df, start = start+i, end = start+i+period, plot=False)\n",
    "    SRs = SRs.append(W.iloc[0:4], ignore_index=True)\n",
    "    if i == 0 or i == len(df) - period - 1:\n",
    "        print('Ending Date: ' + str(df.index[start+i+period]))\n",
    "SRs.columns = col_names\n",
    "SRs.index = df.iloc[period:].index"
   ]
  },
  {
   "cell_type": "code",
   "execution_count": 14,
   "metadata": {},
   "outputs": [
    {
     "name": "stdout",
     "output_type": "stream",
     "text": [
      "1111 rows x 9 columns\n",
      " From Date 2016-04-15 to Date 2020-09-11 \n"
     ]
    },
    {
     "data": {
      "text/html": [
       "<div>\n",
       "<style scoped>\n",
       "    .dataframe tbody tr th:only-of-type {\n",
       "        vertical-align: middle;\n",
       "    }\n",
       "\n",
       "    .dataframe tbody tr th {\n",
       "        vertical-align: top;\n",
       "    }\n",
       "\n",
       "    .dataframe thead th {\n",
       "        text-align: right;\n",
       "    }\n",
       "</style>\n",
       "<table border=\"1\" class=\"dataframe\">\n",
       "  <thead>\n",
       "    <tr style=\"text-align: right;\">\n",
       "      <th></th>\n",
       "      <th>Open</th>\n",
       "      <th>High</th>\n",
       "      <th>Low</th>\n",
       "      <th>Close</th>\n",
       "      <th>Volume</th>\n",
       "      <th>SR1</th>\n",
       "      <th>SR2</th>\n",
       "      <th>SR3</th>\n",
       "      <th>SR4</th>\n",
       "    </tr>\n",
       "    <tr>\n",
       "      <th>Date</th>\n",
       "      <th></th>\n",
       "      <th></th>\n",
       "      <th></th>\n",
       "      <th></th>\n",
       "      <th></th>\n",
       "      <th></th>\n",
       "      <th></th>\n",
       "      <th></th>\n",
       "      <th></th>\n",
       "    </tr>\n",
       "  </thead>\n",
       "  <tbody>\n",
       "    <tr>\n",
       "      <th>2016-04-15</th>\n",
       "      <td>14.85</td>\n",
       "      <td>14.87</td>\n",
       "      <td>14.18</td>\n",
       "      <td>14.33</td>\n",
       "      <td>2405100</td>\n",
       "      <td>15.91</td>\n",
       "      <td>10.90</td>\n",
       "      <td>9.63</td>\n",
       "      <td>11.80</td>\n",
       "    </tr>\n",
       "    <tr>\n",
       "      <th>2016-04-18</th>\n",
       "      <td>14.20</td>\n",
       "      <td>14.71</td>\n",
       "      <td>14.13</td>\n",
       "      <td>14.51</td>\n",
       "      <td>1384700</td>\n",
       "      <td>12.90</td>\n",
       "      <td>10.90</td>\n",
       "      <td>10.80</td>\n",
       "      <td>15.13</td>\n",
       "    </tr>\n",
       "    <tr>\n",
       "      <th>2020-09-10</th>\n",
       "      <td>147.02</td>\n",
       "      <td>148.54</td>\n",
       "      <td>139.82</td>\n",
       "      <td>141.07</td>\n",
       "      <td>6711500</td>\n",
       "      <td>136.13</td>\n",
       "      <td>95.87</td>\n",
       "      <td>170.61</td>\n",
       "      <td>71.07</td>\n",
       "    </tr>\n",
       "    <tr>\n",
       "      <th>2020-09-11</th>\n",
       "      <td>143.91</td>\n",
       "      <td>143.91</td>\n",
       "      <td>134.26</td>\n",
       "      <td>137.45</td>\n",
       "      <td>8415600</td>\n",
       "      <td>136.13</td>\n",
       "      <td>95.87</td>\n",
       "      <td>170.61</td>\n",
       "      <td>71.07</td>\n",
       "    </tr>\n",
       "  </tbody>\n",
       "</table>\n",
       "</div>"
      ],
      "text/plain": [
       "              Open    High     Low   Close   Volume     SR1    SR2     SR3  \\\n",
       "Date                                                                         \n",
       "2016-04-15   14.85   14.87   14.18   14.33  2405100   15.91  10.90    9.63   \n",
       "2016-04-18   14.20   14.71   14.13   14.51  1384700   12.90  10.90   10.80   \n",
       "2020-09-10  147.02  148.54  139.82  141.07  6711500  136.13  95.87  170.61   \n",
       "2020-09-11  143.91  143.91  134.26  137.45  8415600  136.13  95.87  170.61   \n",
       "\n",
       "              SR4  \n",
       "Date               \n",
       "2016-04-15  11.80  \n",
       "2016-04-18  15.13  \n",
       "2020-09-10  71.07  \n",
       "2020-09-11  71.07  "
      ]
     },
     "execution_count": 14,
     "metadata": {},
     "output_type": "execute_result"
    }
   ],
   "source": [
    "dfs = pd.concat([df, SRs], axis=1).dropna()\n",
    "ends(dfs)"
   ]
  }
 ],
 "metadata": {
  "kernelspec": {
   "display_name": "Python 3.7 (tensorflow)",
   "language": "python",
   "name": "tensorflow"
  },
  "language_info": {
   "codemirror_mode": {
    "name": "ipython",
    "version": 3
   },
   "file_extension": ".py",
   "mimetype": "text/x-python",
   "name": "python",
   "nbconvert_exporter": "python",
   "pygments_lexer": "ipython3",
   "version": "3.7.7"
  }
 },
 "nbformat": 4,
 "nbformat_minor": 4
}
